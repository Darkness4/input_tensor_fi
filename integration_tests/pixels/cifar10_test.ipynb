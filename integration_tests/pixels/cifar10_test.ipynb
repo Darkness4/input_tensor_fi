{
 "cells": [
  {
   "cell_type": "markdown",
   "metadata": {},
   "source": [
    "# Cifar 10 integration test\n",
    "\n",
    "## Configuration"
   ]
  },
  {
   "cell_type": "code",
   "execution_count": 1,
   "metadata": {},
   "outputs": [],
   "source": [
    "import os\n",
    "from datetime import datetime\n",
    "\n",
    "import numpy as np\n",
    "import tensorflow as tf\n",
    "\n",
    "\n",
    "FILE_PATH = os.getcwd()\n",
    "MODEL_PATH = os.path.join(FILE_PATH, \"../models/my_vgg.h5\")"
   ]
  },
  {
   "cell_type": "markdown",
   "metadata": {},
   "source": [
    "## Cifar 10 model\n",
    "\n",
    "### Model"
   ]
  },
  {
   "cell_type": "code",
   "execution_count": 2,
   "metadata": {},
   "outputs": [],
   "source": [
    "from tensorflow.keras.regularizers import l2\n",
    "\n",
    "\n",
    "def my_vgg():\n",
    "    model = tf.keras.Sequential(\n",
    "        [\n",
    "            tf.keras.layers.Conv2D(\n",
    "                32,\n",
    "                (3, 3),\n",
    "                activation=\"relu\",\n",
    "                kernel_initializer=\"he_uniform\",\n",
    "                kernel_regularizer=l2(0.001),\n",
    "                padding=\"same\",\n",
    "                input_shape=(32, 32, 3),\n",
    "            ),\n",
    "            tf.keras.layers.Conv2D(\n",
    "                32,\n",
    "                (3, 3),\n",
    "                activation=\"relu\",\n",
    "                kernel_initializer=\"he_uniform\",\n",
    "                kernel_regularizer=l2(0.001),\n",
    "                padding=\"same\",\n",
    "            ),\n",
    "            tf.keras.layers.MaxPooling2D(2, 2),\n",
    "            tf.keras.layers.Conv2D(\n",
    "                64,\n",
    "                (3, 3),\n",
    "                activation=\"relu\",\n",
    "                kernel_initializer=\"he_uniform\",\n",
    "                kernel_regularizer=l2(0.001),\n",
    "                padding=\"same\",\n",
    "            ),\n",
    "            tf.keras.layers.Conv2D(\n",
    "                64,\n",
    "                (3, 3),\n",
    "                activation=\"relu\",\n",
    "                kernel_initializer=\"he_uniform\",\n",
    "                kernel_regularizer=l2(0.001),\n",
    "                padding=\"same\",\n",
    "            ),\n",
    "            tf.keras.layers.MaxPooling2D(2, 2),\n",
    "            tf.keras.layers.Conv2D(\n",
    "                128,\n",
    "                (3, 3),\n",
    "                activation=\"relu\",\n",
    "                kernel_initializer=\"he_uniform\",\n",
    "                kernel_regularizer=l2(0.001),\n",
    "                padding=\"same\",\n",
    "            ),\n",
    "            tf.keras.layers.Conv2D(\n",
    "                128,\n",
    "                (3, 3),\n",
    "                activation=\"relu\",\n",
    "                kernel_initializer=\"he_uniform\",\n",
    "                kernel_regularizer=l2(0.001),\n",
    "                padding=\"same\",\n",
    "            ),\n",
    "            tf.keras.layers.MaxPooling2D(2, 2),\n",
    "            tf.keras.layers.Flatten(),\n",
    "            tf.keras.layers.Dense(\n",
    "                128,\n",
    "                activation=\"relu\",\n",
    "                kernel_initializer=\"he_uniform\",\n",
    "                kernel_regularizer=l2(0.001),\n",
    "            ),\n",
    "            tf.keras.layers.Dense(10, activation=\"softmax\"),\n",
    "        ]\n",
    "    )\n",
    "\n",
    "    model.compile(\n",
    "        optimizer=\"adam\",\n",
    "        loss=tf.losses.CategoricalCrossentropy(from_logits=True),\n",
    "        metrics=[tf.metrics.CategoricalAccuracy()],\n",
    "    )\n",
    "    return model\n"
   ]
  },
  {
   "cell_type": "markdown",
   "metadata": {},
   "source": [
    "### Training"
   ]
  },
  {
   "cell_type": "code",
   "execution_count": 3,
   "metadata": {},
   "outputs": [
    {
     "name": "stdout",
     "output_type": "stream",
     "text": [
      "Model: \"sequential\"\n",
      "_________________________________________________________________\n",
      "Layer (type)                 Output Shape              Param #   \n",
      "=================================================================\n",
      "conv2d (Conv2D)              (None, 32, 32, 32)        896       \n",
      "_________________________________________________________________\n",
      "conv2d_1 (Conv2D)            (None, 32, 32, 32)        9248      \n",
      "_________________________________________________________________\n",
      "max_pooling2d (MaxPooling2D) (None, 16, 16, 32)        0         \n",
      "_________________________________________________________________\n",
      "conv2d_2 (Conv2D)            (None, 16, 16, 64)        18496     \n",
      "_________________________________________________________________\n",
      "conv2d_3 (Conv2D)            (None, 16, 16, 64)        36928     \n",
      "_________________________________________________________________\n",
      "max_pooling2d_1 (MaxPooling2 (None, 8, 8, 64)          0         \n",
      "_________________________________________________________________\n",
      "conv2d_4 (Conv2D)            (None, 8, 8, 128)         73856     \n",
      "_________________________________________________________________\n",
      "conv2d_5 (Conv2D)            (None, 8, 8, 128)         147584    \n",
      "_________________________________________________________________\n",
      "max_pooling2d_2 (MaxPooling2 (None, 4, 4, 128)         0         \n",
      "_________________________________________________________________\n",
      "flatten (Flatten)            (None, 2048)              0         \n",
      "_________________________________________________________________\n",
      "dense (Dense)                (None, 128)               262272    \n",
      "_________________________________________________________________\n",
      "dense_1 (Dense)              (None, 10)                1290      \n",
      "=================================================================\n",
      "Total params: 550,570\n",
      "Trainable params: 550,570\n",
      "Non-trainable params: 0\n",
      "_________________________________________________________________\n"
     ]
    }
   ],
   "source": [
    "from tensorflow.keras.datasets import cifar10\n",
    "from tensorflow.keras.utils import to_categorical\n",
    "\n",
    "(x_train, y_train), (x_test, y_test) = cifar10.load_data()\n",
    "\n",
    "y_train = to_categorical(y_train)\n",
    "y_test = to_categorical(y_test)\n",
    "\n",
    "if os.path.exists(MODEL_PATH):\n",
    "    model: tf.keras.Model = tf.keras.models.load_model(MODEL_PATH)\n",
    "else:\n",
    "    model: tf.keras.Model = my_vgg()\n",
    "    model.fit(\n",
    "        x_train,\n",
    "        y_train,\n",
    "        epochs=100,\n",
    "        batch_size=64,\n",
    "        validation_data=(x_test, y_test),\n",
    "    )\n",
    "    model.save(MODEL_PATH)\n",
    "\n",
    "model.summary()"
   ]
  },
  {
   "cell_type": "markdown",
   "metadata": {},
   "source": [
    "### Evaluation"
   ]
  },
  {
   "cell_type": "code",
   "execution_count": 4,
   "metadata": {},
   "outputs": [
    {
     "name": "stdout",
     "output_type": "stream",
     "text": [
      "313/313 [==============================] - 4s 7ms/step - loss: 1.2258 - categorical_accuracy: 0.7685\n",
      "loss=1.2258156538009644, acc=0.7684999704360962\n"
     ]
    }
   ],
   "source": [
    "loss, acc = model.evaluate(x_test, y_test)\n",
    "\n",
    "print(f\"loss={loss}, acc={acc}\")"
   ]
  },
  {
   "cell_type": "markdown",
   "metadata": {},
   "source": [
    "## Fault Injection\n",
    "\n",
    "### Model"
   ]
  },
  {
   "cell_type": "code",
   "execution_count": 5,
   "metadata": {},
   "outputs": [
    {
     "ename": "ImportError",
     "evalue": "cannot import name 'PixelFaultTF' from 'inputtensorfi.manipulation.img.faults' (D:\\nguye\\Desktop\\Projets\\Python\\InputTensorFI\\inputtensorfi\\manipulation\\img\\faults.py)",
     "output_type": "error",
     "traceback": [
      "\u001b[1;31m---------------------------------------------------------------------------\u001b[0m",
      "\u001b[1;31mImportError\u001b[0m                               Traceback (most recent call last)",
      "\u001b[1;32m<ipython-input-5-6b4feed300fe>\u001b[0m in \u001b[0;36m<module>\u001b[1;34m\u001b[0m\n\u001b[0;32m      1\u001b[0m \u001b[1;32mfrom\u001b[0m \u001b[0minputtensorfi\u001b[0m \u001b[1;32mimport\u001b[0m \u001b[0mInputTensorFI\u001b[0m\u001b[1;33m\u001b[0m\u001b[1;33m\u001b[0m\u001b[0m\n\u001b[0;32m      2\u001b[0m \u001b[1;32mfrom\u001b[0m \u001b[0minputtensorfi\u001b[0m\u001b[1;33m.\u001b[0m\u001b[0mlayers\u001b[0m \u001b[1;32mimport\u001b[0m \u001b[0mPixelFiLayer\u001b[0m\u001b[1;33m\u001b[0m\u001b[1;33m\u001b[0m\u001b[0m\n\u001b[1;32m----> 3\u001b[1;33m \u001b[1;32mfrom\u001b[0m \u001b[0minputtensorfi\u001b[0m\u001b[1;33m.\u001b[0m\u001b[0mmanipulation\u001b[0m\u001b[1;33m.\u001b[0m\u001b[0mimg\u001b[0m\u001b[1;33m.\u001b[0m\u001b[0mfaults\u001b[0m \u001b[1;32mimport\u001b[0m \u001b[0mPixelFaultTF\u001b[0m\u001b[1;33m\u001b[0m\u001b[1;33m\u001b[0m\u001b[0m\n\u001b[0m\u001b[0;32m      4\u001b[0m \u001b[1;33m\u001b[0m\u001b[0m\n\u001b[0;32m      5\u001b[0m pixels = np.array(  # Triple faults injection for each image\n",
      "\u001b[1;31mImportError\u001b[0m: cannot import name 'PixelFaultTF' from 'inputtensorfi.manipulation.img.faults' (D:\\nguye\\Desktop\\Projets\\Python\\InputTensorFI\\inputtensorfi\\manipulation\\img\\faults.py)"
     ]
    }
   ],
   "source": [
    "from inputtensorfi import InputTensorFI\n",
    "from inputtensorfi.layers import PixelFiLayer\n",
    "from inputtensorfi.manipulation.img.faults import PixelFaultTF\n",
    "\n",
    "pixels = np.array(  # Triple faults injection for each image\n",
    "    [\n",
    "        PixelFault(5, 5, 0, 0, 0),  # x, y, r, g, b\n",
    "        PixelFault(6, 6, 0, 0, 0),\n",
    "        PixelFault(7, 7, 0, 0, 0),\n",
    "    ],\n",
    "    dtype=object,\n",
    ")\n",
    "\n",
    "faulted_model = InputTensorFI.build_faulted_model(\n",
    "    model,\n",
    "    fi_layers=[\n",
    "        PixelFiLayerTF(pixels, dtype=tf.uint8),\n",
    "    ],\n",
    ")\n",
    "faulted_model.summary()"
   ]
  },
  {
   "cell_type": "markdown",
   "metadata": {},
   "source": [
    "### Evaluation\n",
    "\n",
    "We are going to trace the model for debug purpose. These lines are optionals."
   ]
  },
  {
   "cell_type": "code",
   "execution_count": null,
   "metadata": {},
   "outputs": [],
   "source": [
    "logdir = \"logs/compile/\" + datetime.now().strftime(\"%Y%m%d-%H%M%S\")\n",
    "tensorboard_callback = tf.keras.callbacks.TensorBoard(log_dir=logdir)"
   ]
  },
  {
   "cell_type": "markdown",
   "metadata": {},
   "source": [
    "Run the evaluation."
   ]
  },
  {
   "cell_type": "code",
   "execution_count": null,
   "metadata": {},
   "outputs": [],
   "source": [
    "loss, acc = faulted_model.evaluate(\n",
    "    x_test, y_test, callbacks=[tensorboard_callback]\n",
    ")\n",
    "print(f\"loss={loss}, acc={acc}\")"
   ]
  }
 ],
 "metadata": {
  "kernelspec": {
   "display_name": "Python 3",
   "language": "python",
   "name": "python3"
  },
  "language_info": {
   "codemirror_mode": {
    "name": "ipython",
    "version": 3
   },
   "file_extension": ".py",
   "mimetype": "text/x-python",
   "name": "python",
   "nbconvert_exporter": "python",
   "pygments_lexer": "ipython3",
   "version": "3.8.5"
  },
  "metadata": {
   "interpreter": {
    "hash": "d2aab5c462c3fb13dde0f9bf2c233d771484743c6759bd91178c5a994850fff8"
   }
  }
 },
 "nbformat": 4,
 "nbformat_minor": 2
}
